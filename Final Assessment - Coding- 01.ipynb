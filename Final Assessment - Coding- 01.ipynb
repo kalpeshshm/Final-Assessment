{
 "cells": [
  {
   "cell_type": "markdown",
   "id": "473e1202",
   "metadata": {},
   "source": [
    "# Final Assessment - Coding- 01"
   ]
  },
  {
   "cell_type": "markdown",
   "id": "e39cc95e",
   "metadata": {},
   "source": [
    "#Q2. You will be given a list. You have to print a list whose 1st element should be largest and 2nd should be the smallest then the 3rd should be 2nd largest and 4th should be 2nd smallest and so on."
   ]
  },
  {
   "cell_type": "code",
   "execution_count": 15,
   "id": "a1ea8352",
   "metadata": {},
   "outputs": [
    {
     "name": "stdout",
     "output_type": "stream",
     "text": [
      "[6, 1, 5, 2, 4, 3]\n"
     ]
    }
   ],
   "source": [
    "def rearrange(arr, n):\n",
    "    \n",
    "    temp = n*[None]\n",
    "    small = 0\n",
    "    large = n-1\n",
    "\n",
    "    flag = True\n",
    "\n",
    "    for i in range(n):\n",
    "        if flag is True:\n",
    "            temp[i] = arr[large]\n",
    "            large -= 1\n",
    "        else:\n",
    "            temp[i] = arr[small]\n",
    "            small += 1\n",
    " \n",
    "        flag = bool(1-flag)\n",
    "\n",
    "    for i in range(n):\n",
    "        arr[i] = temp[i]\n",
    "    return arr\n",
    "\n",
    "arr = [1, 2, 3, 4, 5, 6]\n",
    "n = len(arr)\n",
    "\n",
    "print(rearrange(arr, n))"
   ]
  }
 ],
 "metadata": {
  "kernelspec": {
   "display_name": "Python 3 (ipykernel)",
   "language": "python",
   "name": "python3"
  },
  "language_info": {
   "codemirror_mode": {
    "name": "ipython",
    "version": 3
   },
   "file_extension": ".py",
   "mimetype": "text/x-python",
   "name": "python",
   "nbconvert_exporter": "python",
   "pygments_lexer": "ipython3",
   "version": "3.10.0"
  }
 },
 "nbformat": 4,
 "nbformat_minor": 5
}
