{
 "cells": [
  {
   "cell_type": "markdown",
   "id": "9c019766",
   "metadata": {},
   "source": [
    "## Final Assessment - Coding -02"
   ]
  },
  {
   "cell_type": "code",
   "execution_count": null,
   "id": "b7064ea8",
   "metadata": {},
   "outputs": [],
   "source": [
    "Python - 2\n",
    "\n",
    "Find nth fibonacci number. If it starts with 0,1,1,2.....\n",
    "\n",
    "Also, Print Incorrect Input if n is less than or equal to 0."
   ]
  },
  {
   "cell_type": "code",
   "execution_count": 28,
   "id": "880f376d",
   "metadata": {},
   "outputs": [
    {
     "name": "stdout",
     "output_type": "stream",
     "text": [
      "4\n",
      "2\n"
     ]
    }
   ],
   "source": [
    "def fibonacci(n):\n",
    "    n = int(input())\n",
    "    if n <= 0:\n",
    "        return \"Incorrect Output\"\n",
    "    data = [0, 1]\n",
    "    if n > 2:\n",
    "        for i in range(2, n):\n",
    "            data.append(data[i-1] + data[i-2])\n",
    "    return data[n-1]\n",
    "print(fibonacci(n))"
   ]
  }
 ],
 "metadata": {
  "kernelspec": {
   "display_name": "Python 3 (ipykernel)",
   "language": "python",
   "name": "python3"
  },
  "language_info": {
   "codemirror_mode": {
    "name": "ipython",
    "version": 3
   },
   "file_extension": ".py",
   "mimetype": "text/x-python",
   "name": "python",
   "nbconvert_exporter": "python",
   "pygments_lexer": "ipython3",
   "version": "3.10.0"
  }
 },
 "nbformat": 4,
 "nbformat_minor": 5
}
